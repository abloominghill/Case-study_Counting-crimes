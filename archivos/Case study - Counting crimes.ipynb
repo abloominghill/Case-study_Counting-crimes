{
 "cells": [
  {
   "cell_type": "markdown",
   "id": "656aead6",
   "metadata": {},
   "source": [
    "<img src='portada.png'>"
   ]
  },
  {
   "cell_type": "markdown",
   "id": "5e3ae39c",
   "metadata": {},
   "source": [
    "<h1 align=center><font size=7>Case study - Counting crimes 👩‍✈️</font></h1>\n",
    "\n",
    "<h4 align=center><font size=3>Estudio de caso para poner en práctica lo aprendido en el curso \"Data Types for Data Science in Python\". </font></h4>\n"
   ]
  },
  {
   "cell_type": "markdown",
   "id": "3c1735f7",
   "metadata": {},
   "source": [
    "## Primera parte\n",
    "**Pregunta objetivo: ¿cuáles son las cinco ubicaciones de delitos más comunes por mes?**"
   ]
  },
  {
   "cell_type": "code",
   "execution_count": 109,
   "id": "6c56b2ec",
   "metadata": {},
   "outputs": [],
   "source": [
    "# Importar modulos necesarios\n",
    "\n",
    "import csv\n",
    "from datetime import datetime\n",
    "from collections import Counter\n",
    "from collections import defaultdict"
   ]
  },
  {
   "cell_type": "markdown",
   "id": "8f62e388",
   "metadata": {},
   "source": [
    "#### Obtener los datos del csv"
   ]
  },
  {
   "cell_type": "code",
   "execution_count": 110,
   "id": "b51f06bf",
   "metadata": {},
   "outputs": [
    {
     "name": "stdout",
     "output_type": "stream",
     "text": [
      "[('Date', 'Block', 'Primary Type', 'Description', 'Location Description', 'Arrest', 'Domestic', 'District'), ('05/23/2016 05:35:00 PM', '024XX W DIVISION ST', 'ASSAULT', 'SIMPLE', 'STREET', 'False', 'True', '14'), ('03/26/2016 08:20:00 PM', '019XX W HOWARD ST', 'BURGLARY', 'FORCIBLE ENTRY', 'SMALL RETAIL STORE', 'False', 'False', '24'), ('04/25/2016 03:05:00 PM', '001XX W 79TH ST', 'THEFT', 'RETAIL THEFT', 'DEPARTMENT STORE', 'True', 'False', '6')]\n"
     ]
    }
   ],
   "source": [
    "# Crear una lista vacia\n",
    "crime_data = []\n",
    "\n",
    "# Abrir el csv\n",
    "with open('Chicago_crime.csv', newline='') as csvfile:\n",
    "    reader = csv.reader(csvfile)\n",
    "    \n",
    "    # Alimentar la lista \n",
    "    for row in list(reader):\n",
    "        tuple_row = tuple(row)\n",
    "        crime_data.append(tuple_row) \n",
    "\n",
    "print(crime_data[0:4])"
   ]
  },
  {
   "cell_type": "code",
   "execution_count": 111,
   "id": "989e9549",
   "metadata": {},
   "outputs": [
    {
     "data": {
      "text/plain": [
       "('Date',\n",
       " 'Block',\n",
       " 'Primary Type',\n",
       " 'Description',\n",
       " 'Location Description',\n",
       " 'Arrest',\n",
       " 'Domestic',\n",
       " 'District')"
      ]
     },
     "execution_count": 111,
     "metadata": {},
     "output_type": "execute_result"
    }
   ],
   "source": [
    "# Eliminar de forma segura el primer elemento de la lista (los encabezados)\n",
    "crime_data.pop(0)"
   ]
  },
  {
   "cell_type": "code",
   "execution_count": 112,
   "id": "f74f962f",
   "metadata": {},
   "outputs": [
    {
     "name": "stdout",
     "output_type": "stream",
     "text": [
      "[('05/23/2016 05:35:00 PM', '024XX W DIVISION ST', 'ASSAULT', 'SIMPLE', 'STREET', 'False', 'True', '14'), ('03/26/2016 08:20:00 PM', '019XX W HOWARD ST', 'BURGLARY', 'FORCIBLE ENTRY', 'SMALL RETAIL STORE', 'False', 'False', '24'), ('04/25/2016 03:05:00 PM', '001XX W 79TH ST', 'THEFT', 'RETAIL THEFT', 'DEPARTMENT STORE', 'True', 'False', '6'), ('04/26/2016 05:30:00 PM', '010XX N PINE AVE', 'BATTERY', 'SIMPLE', 'SIDEWALK', 'False', 'False', '15'), ('06/19/2016 01:15:00 AM', '027XX W AUGUSTA BLVD', 'BATTERY', 'AGGRAVATED: HANDGUN', 'SIDEWALK', 'False', 'False', '12')]\n"
     ]
    }
   ],
   "source": [
    "print(crime_data[:5])"
   ]
  },
  {
   "cell_type": "markdown",
   "id": "4900cd4f",
   "metadata": {},
   "source": [
    "#### Obtener crimenes por mes"
   ]
  },
  {
   "cell_type": "code",
   "execution_count": 113,
   "id": "67538483",
   "metadata": {},
   "outputs": [
    {
     "name": "stdout",
     "output_type": "stream",
     "text": [
      "[(1, 1948), (2, 1862), (7, 1257)]\n"
     ]
    }
   ],
   "source": [
    "# Crear un objeto contador para los meses\n",
    "crimes_by_month = Counter()\n",
    "\n",
    "\n",
    "for row in crime_data:    \n",
    "    # Convertir el primer elemento en un objeto datetime\n",
    "    date = datetime.strptime(row[0], '%m/%d/%Y %I:%M:%S %p')    \n",
    "    # Incrementar el contador para el mes de cada fila\n",
    "    crimes_by_month[date.month] += 1\n",
    "    \n",
    "# Imprimir los 3 meses más comunes de crimenes\n",
    "print(crimes_by_month.most_common(3))\n"
   ]
  },
  {
   "cell_type": "markdown",
   "id": "54b627aa",
   "metadata": {},
   "source": [
    "#### Obtener total de crimenes por localización por mes"
   ]
  },
  {
   "cell_type": "code",
   "execution_count": 114,
   "id": "3f239f3d",
   "metadata": {},
   "outputs": [],
   "source": [
    "# Crear un diccionario que por defecto sea una lista\n",
    "locations_by_month = defaultdict(list)\n",
    "\n",
    "for row in crime_data:\n",
    "    date = datetime.strptime(row[0], '%m/%d/%Y %I:%M:%S %p')\n",
    "    \n",
    "    if date.year == 2016:\n",
    "        # Establecer la key del diccionario en el mes y agregar la ubicación a la lista\n",
    "        locations_by_month[date.month].append(row[4]) "
   ]
  },
  {
   "cell_type": "code",
   "execution_count": 115,
   "id": "4e7d2362",
   "metadata": {},
   "outputs": [
    {
     "name": "stdout",
     "output_type": "stream",
     "text": [
      "5\n",
      "[('STREET', 241), ('RESIDENCE', 175), ('APARTMENT', 128), ('SIDEWALK', 111), ('OTHER', 41)]\n",
      "3\n",
      "[('STREET', 240), ('RESIDENCE', 190), ('APARTMENT', 139), ('SIDEWALK', 99), ('OTHER', 52)]\n",
      "4\n",
      "[('STREET', 213), ('RESIDENCE', 171), ('APARTMENT', 152), ('SIDEWALK', 96), ('OTHER', 40)]\n",
      "6\n",
      "[('STREET', 245), ('RESIDENCE', 164), ('APARTMENT', 159), ('SIDEWALK', 123), ('PARKING LOT/GARAGE(NON.RESID.)', 44)]\n",
      "7\n",
      "[('STREET', 309), ('RESIDENCE', 177), ('APARTMENT', 166), ('SIDEWALK', 125), ('OTHER', 47)]\n",
      "10\n",
      "[('STREET', 248), ('RESIDENCE', 206), ('APARTMENT', 122), ('SIDEWALK', 92), ('OTHER', 62)]\n",
      "12\n",
      "[('STREET', 207), ('RESIDENCE', 158), ('APARTMENT', 136), ('OTHER', 47), ('SIDEWALK', 46)]\n",
      "1\n",
      "[('STREET', 196), ('RESIDENCE', 160), ('APARTMENT', 153), ('SIDEWALK', 72), ('PARKING LOT/GARAGE(NON.RESID.)', 43)]\n",
      "9\n",
      "[('STREET', 279), ('RESIDENCE', 183), ('APARTMENT', 144), ('SIDEWALK', 121), ('OTHER', 39)]\n",
      "11\n",
      "[('STREET', 236), ('RESIDENCE', 182), ('APARTMENT', 154), ('SIDEWALK', 75), ('OTHER', 41)]\n",
      "8\n",
      "[('STREET', 280), ('RESIDENCE', 199), ('APARTMENT', 144), ('SIDEWALK', 109), ('OTHER', 47)]\n",
      "2\n",
      "[('STREET', 188), ('RESIDENCE', 159), ('APARTMENT', 144), ('SIDEWALK', 73), ('OTHER', 40)]\n"
     ]
    }
   ],
   "source": [
    "# Conteo de crimenes por localización\n",
    "\n",
    "for month, locations in list(locations_by_month.items()):\n",
    "    \n",
    "    location_count = Counter(locations)\n",
    "    \n",
    "    print(month)\n",
    "    print(location_count.most_common(5))"
   ]
  },
  {
   "cell_type": "markdown",
   "id": "dda8097b",
   "metadata": {},
   "source": [
    "## Segunda parte\n",
    "**Pregunta objetivo: ¿cuántos delitos ocurrieron por distrito?**"
   ]
  },
  {
   "cell_type": "markdown",
   "id": "624005d9",
   "metadata": {},
   "source": [
    "#### Obtener datos por distrito"
   ]
  },
  {
   "cell_type": "code",
   "execution_count": 116,
   "id": "aaab7e0f",
   "metadata": {},
   "outputs": [],
   "source": [
    "crimes_by_district = defaultdict(list)\n",
    "\n",
    "# Iterar sobre un DictReader del archivo CSV\n",
    "with open('Chicago_crime.csv', newline='') as csvfile:    \n",
    "    reader = csv.DictReader(csvfile)\n",
    "    \n",
    "    for row in reader:        \n",
    "    # Eliminar el distristo en cada row\n",
    "        district = row.pop('District')        \n",
    "    # Establecer el distrito como key del diccionario y agregar el resto de elementos de row\n",
    "        crimes_by_district[district].append(row)"
   ]
  },
  {
   "cell_type": "markdown",
   "id": "ce8a56b6",
   "metadata": {},
   "source": [
    "#### Obtener total de arrestos por año por distrito"
   ]
  },
  {
   "cell_type": "code",
   "execution_count": 117,
   "id": "026d693b",
   "metadata": {
    "scrolled": true
   },
   "outputs": [
    {
     "name": "stdout",
     "output_type": "stream",
     "text": [
      "14\n",
      "Counter({2016: 59, 2017: 8})\n",
      "24\n",
      "Counter({2016: 51, 2017: 10})\n",
      "6\n",
      "Counter({2016: 157, 2017: 32})\n",
      "15\n",
      "Counter({2016: 154, 2017: 16})\n",
      "12\n",
      "Counter({2016: 72, 2017: 9})\n",
      "7\n",
      "Counter({2016: 181, 2017: 27})\n",
      "1\n",
      "Counter({2016: 124, 2017: 15})\n",
      "11\n",
      "Counter({2016: 275, 2017: 53})\n",
      "18\n",
      "Counter({2016: 92, 2017: 17})\n",
      "22\n",
      "Counter({2016: 78, 2017: 12})\n",
      "5\n",
      "Counter({2016: 149, 2017: 30})\n",
      "16\n",
      "Counter({2016: 66, 2017: 9})\n",
      "9\n",
      "Counter({2016: 116, 2017: 17})\n",
      "8\n",
      "Counter({2016: 124, 2017: 26})\n",
      "3\n",
      "Counter({2016: 98, 2017: 18})\n",
      "2\n",
      "Counter({2016: 84, 2017: 15})\n",
      "19\n",
      "Counter({2016: 88, 2017: 11})\n",
      "10\n",
      "Counter({2016: 144, 2017: 20})\n",
      "4\n",
      "Counter({2016: 134, 2017: 15})\n",
      "17\n",
      "Counter({2016: 38, 2017: 5})\n",
      "20\n",
      "Counter({2016: 27, 2017: 8})\n",
      "25\n",
      "Counter({2016: 150, 2017: 26})\n",
      "31\n",
      "Counter({2016: 1})\n"
     ]
    }
   ],
   "source": [
    "# Iterar sobre el diccioario de crimenes por distrito\n",
    "for district, crimes in crimes_by_district.items():\n",
    "    print(district)\n",
    "    \n",
    "    # Crear contador vacio\n",
    "    year_count = Counter()\n",
    "    \n",
    "    # Iterar sobre el item crimes\n",
    "    for crime in crimes:\n",
    "        # Si hubo arresto\n",
    "        if crime['Arrest'] == 'True':\n",
    "            # Convertir a un objeto datetime y obtener el año\n",
    "            year = datetime.strptime(crime['Date'], '%m/%d/%Y %I:%M:%S %p').year\n",
    "            # Incrementar el contador\n",
    "            year_count[year] += 1\n",
    "            \n",
    "    print(year_count)"
   ]
  },
  {
   "cell_type": "markdown",
   "id": "e79b2e21",
   "metadata": {},
   "source": [
    "#### Obtener crimes por bloque de la ciudad"
   ]
  },
  {
   "cell_type": "code",
   "execution_count": 118,
   "id": "e7cc6699",
   "metadata": {},
   "outputs": [],
   "source": [
    "# Diccionario de tipos primarios de crimen por bloque\n",
    "crimes_by_block = defaultdict(list)\n",
    "\n",
    "with open('Chicago_crime.csv', newline='') as csvfile:    \n",
    "    reader = csv.DictReader(csvfile)\n",
    "    \n",
    "    for row in reader:        \n",
    "    # Eliminar el distristo en cada row\n",
    "        district = row.pop('Block')     \n",
    "        primary_type = row.pop('Primary Type') \n",
    "    # Establecer el distrito como key del diccionario y agregar el resto de elementos de row\n",
    "        crimes_by_block[district].append(primary_type)\n"
   ]
  },
  {
   "cell_type": "markdown",
   "id": "30ee2ced",
   "metadata": {},
   "source": [
    "#### Obtener lista de crimenes unicos de los bloques '001XX N STATE ST' y '0000X W TERMINAL ST'"
   ]
  },
  {
   "cell_type": "code",
   "execution_count": 119,
   "id": "ecc860b3",
   "metadata": {},
   "outputs": [
    {
     "name": "stdout",
     "output_type": "stream",
     "text": [
      "{'ROBBERY', 'BATTERY', 'ASSAULT', 'DECEPTIVE PRACTICE', 'CRIMINAL DAMAGE', 'CRIMINAL TRESPASS', 'THEFT', 'OTHER OFFENSE'}\n"
     ]
    }
   ],
   "source": [
    "# Lista unica de crimenes en el bloque 001XX N STATE ST\n",
    "n_state_st_crimes = set(crimes_by_block['001XX N STATE ST'])\n",
    "\n",
    "print(n_state_st_crimes)"
   ]
  },
  {
   "cell_type": "code",
   "execution_count": 120,
   "id": "7c8344d4",
   "metadata": {},
   "outputs": [
    {
     "name": "stdout",
     "output_type": "stream",
     "text": [
      "{'NARCOTICS', 'PUBLIC PEACE VIOLATION', 'ASSAULT', 'DECEPTIVE PRACTICE', 'CRIMINAL DAMAGE', 'CRIMINAL TRESPASS', 'THEFT', 'OTHER OFFENSE'}\n"
     ]
    }
   ],
   "source": [
    "# Lista unica de crimenes en el bloque 0000X W TERMINAL ST\n",
    "w_terminal_st_crimes = set(crimes_by_block['0000X W TERMINAL ST'])\n",
    "\n",
    "print(w_terminal_st_crimes)"
   ]
  },
  {
   "cell_type": "code",
   "execution_count": 121,
   "id": "f8509fb8",
   "metadata": {},
   "outputs": [
    {
     "name": "stdout",
     "output_type": "stream",
     "text": [
      "{'BATTERY', 'ROBBERY'}\n"
     ]
    }
   ],
   "source": [
    "# Encontrar los crimenes cometidos en 001XX N STATE ST que no se cometieron en 0000X W TERMINAL ST\n",
    "crime_differences = n_state_st_crimes.difference(w_terminal_st_crimes)\n",
    "\n",
    "print(crime_differences)"
   ]
  },
  {
   "cell_type": "code",
   "execution_count": null,
   "id": "d2d0ee08",
   "metadata": {},
   "outputs": [],
   "source": []
  }
 ],
 "metadata": {
  "kernelspec": {
   "display_name": "Python 3 (ipykernel)",
   "language": "python",
   "name": "python3"
  },
  "language_info": {
   "codemirror_mode": {
    "name": "ipython",
    "version": 3
   },
   "file_extension": ".py",
   "mimetype": "text/x-python",
   "name": "python",
   "nbconvert_exporter": "python",
   "pygments_lexer": "ipython3",
   "version": "3.9.7"
  }
 },
 "nbformat": 4,
 "nbformat_minor": 5
}
